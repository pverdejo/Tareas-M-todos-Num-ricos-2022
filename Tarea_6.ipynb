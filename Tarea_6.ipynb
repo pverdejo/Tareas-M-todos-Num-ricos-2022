{
  "cells": [
    {
      "cell_type": "markdown",
      "metadata": {
        "id": "nQj898-0tyxh"
      },
      "source": [
        "# Pregunta 6.3\n"
      ]
    },
    {
      "cell_type": "markdown",
      "metadata": {
        "id": "PULMWaZkcEhx"
      },
      "source": [
        "En un experimento de mecánica cuántica que realizamos una sola vez queremos medir un observable $x$ que depende de un cantidad $M$. \n",
        "\n",
        "De la teoría podemos calcular la probabilidad de obtener $x$ para un valor dado de la masa spreducida $M$\n",
        "\n",
        "$$\n",
        "\\rho(x|M) = \\frac{M}{\\sqrt{\\pi}}e^{-M^2x^2}\n",
        "$$\n",
        "\n",
        "Al medir $x$ se obtiene el siguiente resultado: "
      ]
    },
    {
      "cell_type": "code",
      "execution_count": null,
      "metadata": {
        "id": "XFtA3aDbb3xy"
      },
      "outputs": [],
      "source": [
        "x = 1.56"
      ]
    },
    {
      "cell_type": "markdown",
      "metadata": {
        "id": "GxdD46jrcfP8"
      },
      "source": [
        "Si todos los valores de  M  entre  0  y  10  son a priori igualmente probables, use el teorema de Bayes para encontrar  ρ(M|x)  y grafíquela para el valor de  x  dado. ( ρ(x)  se puede calcular exigiendo que la probabilidad  ρ(M|x)  esté bien normalizada)."
      ]
    },
    {
      "cell_type": "markdown",
      "metadata": {
        "id": "Hz6u06glt-1z"
      },
      "source": [
        "# Respuesta "
      ]
    },
    {
      "cell_type": "markdown",
      "metadata": {
        "id": "nREeK2SIuFbk"
      },
      "source": [
        "Sabemos que el teorema de Bayes tiene la siguiente forma \n",
        "\n",
        "$$\n",
        "P(A|B) = \\frac{P(B|A) P(A)}{P(B)} \\Rightarrow P(x|M) = \\frac{P(M|x) P(x)}{P(M)}\n",
        "$$\n",
        "\n",
        "En palabras es \"la probabilidad de que el observable venga de M es igual a la probabilidad de M dado al observable por la probabilidad del observable todo sobre la probabilidad de M\" \n",
        "\n",
        "Despejamos la probablidad $\\rho(M|x)$ que es la que buscamos\n",
        "\n",
        "$$\n",
        "\\frac{P(x|M)P(M)}{P(x)} = P(M|x) \n",
        "$$\n",
        "\n",
        "Ya que $M$ ronda entre 0 a 10 y cada valor es equiprobale sabemos que $P(M)=0.1$\n",
        "\n",
        "Tambien sabemos que \n",
        "\n",
        "$$\n",
        "P(AB) = P(A|B)P(B) \\Rightarrow \\frac{P(AB)}{P(B)} = P(A|B)\n",
        "$$\n",
        "\n"
      ]
    },
    {
      "cell_type": "code",
      "execution_count": 2,
      "metadata": {
        "id": "YfXTQrSe1RzI"
      },
      "outputs": [],
      "source": [
        "import matplotlib.pyplot as plt\n",
        "import numpy as np\n",
        "import math "
      ]
    },
    {
      "cell_type": "code",
      "execution_count": 135,
      "metadata": {
        "id": "zMmjAtYjchu1"
      },
      "outputs": [],
      "source": [
        "masas = np.array([0,1,2,3,4,5,6,7,8,9,10])\n",
        "raiz_pi = np.sqrt(math.pi)\n",
        "P_M = 0.1\n",
        "# La masa es una cantidad continua, tú la estás usando como si fuera una cantidad discreta.\n",
        "# Una masa puede tener cualquier valor, no solo entero.\n",
        "def prob_cond_x_M(observable):\n",
        "  '''\n",
        "  funcion que nos permite calcular, para algun valor aleatorio en las masas,\n",
        "  la probabilidad de el observable venga de él\n",
        "  '''\n",
        "  M = np.random.choice(masas)\n",
        "  valor_prob_cond = (M/raiz_pi)*math.e**(-(M**2)*(observable**2))\n",
        "  return valor_prob_cond"
      ]
    },
    {
      "cell_type": "code",
      "execution_count": 142,
      "metadata": {
        "colab": {
          "base_uri": "https://localhost:8080/"
        },
        "id": "-LAY8xPy4a-E",
        "outputId": "71faef3b-c3c3-445c-e098-757ba55a16ab"
      },
      "outputs": [
        {
          "data": {
            "text/plain": [
              "6.681267416800442e-05"
            ]
          },
          "execution_count": 142,
          "metadata": {},
          "output_type": "execute_result"
        }
      ],
      "source": [
        "prob_cond_x_M(1.56)\n"
      ]
    },
    {
      "cell_type": "markdown",
      "metadata": {
        "id": "Clka7evULaYI"
      },
      "source": [
        "Ya teniendo una función que puede calcular la probabilidad de que el observable de valor $x = 1.56$ venga cualquiera de las masas disponibles podemos buscar el $P(M|x)$ "
      ]
    },
    {
      "cell_type": "code",
      "execution_count": 151,
      "metadata": {
        "id": "hnWVUiEZ51jw"
      },
      "outputs": [],
      "source": [
        "def prob_cond_M_x(prob_cond_x_M):\n",
        "  # ¿De dónde sale esta división por x? Había que dividir por P(x)\n",
        "  return (prob_cond_x_M(1.56))*(P_M)/1.56"
      ]
    },
    {
      "cell_type": "code",
      "execution_count": 154,
      "metadata": {
        "colab": {
          "base_uri": "https://localhost:8080/"
        },
        "id": "qvheKIK-PPHo",
        "outputId": "4bc9817b-6906-49a9-b9f9-a5ec17781109"
      },
      "outputs": [
        {
          "data": {
            "text/plain": [
              "0.003172498417543245"
            ]
          },
          "execution_count": 154,
          "metadata": {},
          "output_type": "execute_result"
        }
      ],
      "source": [
        "prob_cond_M_x(prob_cond_x_M)"
      ]
    },
    {
      "cell_type": "markdown",
      "metadata": {},
      "source": [
        "# Calificación: 5.0"
      ]
    },
    {
      "cell_type": "markdown",
      "metadata": {},
      "source": [
        "Ver los errores señalados arriba"
      ]
    },
    {
      "cell_type": "code",
      "execution_count": null,
      "metadata": {
        "id": "Dsy9cTXUQkjf"
      },
      "outputs": [],
      "source": []
    }
  ],
  "metadata": {
    "colab": {
      "collapsed_sections": [],
      "provenance": []
    },
    "kernelspec": {
      "display_name": "Python 3",
      "language": "python",
      "name": "python3"
    },
    "language_info": {
      "name": "python",
      "version": "3.10.6 (main, Nov  2 2022, 18:53:38) [GCC 11.3.0]"
    },
    "vscode": {
      "interpreter": {
        "hash": "916dbcbb3f70747c44a77c7bcd40155683ae19c65e1c03b4aa3499c5328201f1"
      }
    }
  },
  "nbformat": 4,
  "nbformat_minor": 0
}
