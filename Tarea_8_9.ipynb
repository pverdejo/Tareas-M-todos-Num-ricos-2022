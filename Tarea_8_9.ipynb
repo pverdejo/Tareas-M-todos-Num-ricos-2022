{
  "nbformat": 4,
  "nbformat_minor": 0,
  "metadata": {
    "colab": {
      "provenance": []
    },
    "kernelspec": {
      "name": "python3",
      "display_name": "Python 3"
    },
    "language_info": {
      "name": "python"
    }
  },
  "cells": [
    {
      "cell_type": "markdown",
      "source": [
        "# Tarea 8.9"
      ],
      "metadata": {
        "id": "tq-09RtsmsZx"
      }
    },
    {
      "cell_type": "markdown",
      "source": [
        "En clase introducimos una fórmula para la segunda derivada usando tres evaluaciones de la función. Use la expansión en Taylor de $f(x_o + h)$, $f(x_o - h)$, $f(x_o + 2h)$ y $f(x_o - 2h)$ para encontrar una fórmula para la segunda derivada con cinco evaluaciones y estime el error cometido (la potencia de $h$)."
      ],
      "metadata": {
        "id": "TtNQAGoPmept"
      }
    },
    {
      "cell_type": "markdown",
      "source": [
        "\n",
        "# Repuesta:\n",
        "\n",
        "Al igual como lo hizo el profesor en los apuntes de clases, expresamos las expansiones en Taylor para cada punto.\n",
        "\n",
        "* para $f(x_o + h)$ :\n",
        "\n",
        "$$\n",
        "f(x_o + h) = f(x_o) + f'(x_o)h + \\frac{1}{2}f''(x_o)h^2 + \\frac{1}{6}f^{(3)}(x_o)h^3 + \\frac{1}{24}f^{(4)}(\\xi)h^4\n",
        "$$\n",
        "\n",
        "* para $f(x_o - h)$ :\n",
        "\n",
        "$$\n",
        "f(x_o - h) = f(x_o) - f'(x_o)h + \\frac{1}{2}f''(x_o)h^2 - \\frac{1}{6}f^{(3)}(x_o)h^3 + \\frac{1}{24}f^{(4)}(\\xi)h^4\n",
        "$$"
      ],
      "metadata": {
        "id": "6Recid2Nnv04"
      }
    },
    {
      "cell_type": "markdown",
      "source": [
        "De la misma forma que antes debemos obtener para $f(x_o + 2h)$ y $f(x_o - 2h)$\n",
        "\n",
        "* para $f(x_o + 2h)$ :\n",
        "\n",
        "$$\n",
        "f(x_o + 2h) = f(x_o) + f'(x_o)2h + f''(x_o)2h^2 + \\frac{4}{3}f^{(3)}(x_o)h^3 + \\frac{2}{3}f^{(4)}(\\xi)h^4\n",
        "$$\n",
        "\n",
        "* para $f(x_o - 2h)$ :\n",
        "\n",
        "$$\n",
        "f(x_o + 2h) = f(x_o) - f'(x_o)2h + f''(x_o)2h^2 - \\frac{4}{3}f^{(3)}(x_o)h^3 + \\frac{2}{3}f^{(4)}(\\xi)h^4\n",
        "$$"
      ],
      "metadata": {
        "id": "fz-vmmTepcZf"
      }
    },
    {
      "cell_type": "markdown",
      "source": [
        "Para hacer los \"paso a paso\" más sencillos de ver, vamos a separar las sumas de los puntos en dos.\n",
        "* primera suma:\n",
        "\n",
        "$$\n",
        "f(x_o + h) + f(x_o - h) = 2f(x_o) + f''(x_o)h^2 + \\frac{1}{12}f^{(4)}(\\xi)h^4\\\n",
        "$$\n",
        "\n",
        "* segunda suma:\n",
        "\n",
        "$$\n",
        "f(x_o + 2h) + f(x_o - 2h) = 2f(x_o) + 4f''(x_o)h^2 + \\frac{4}{3}f^{(4)}(\\xi)h^4\\\n",
        "$$"
      ],
      "metadata": {
        "id": "gj4cuFmLuN2J"
      }
    },
    {
      "cell_type": "markdown",
      "source": [
        "Ahora ya que obtuvimos las dos sumas, volvemos a sumar y despejamos $f''(x_o)$ \n",
        "\n",
        "$$\n",
        "f(x_o + h) + f(x_o - h) + f(x_o + 2h) + f(x_o - 2h) = 4f(x_o) + 5f''(x_o)h^2 + \\frac{17}{12}f^{(4)}(\\xi)h^4\\,\n",
        "$$\n",
        "\n",
        "Despejamos $ f''(x_o) $\n",
        "\n",
        "$$\n",
        "f''(x_o) = \\frac{1}{5h^2}\\left(f(x_o + h)+ f(x_o + 2h) - 2f(x_o) + f(x_o - h) + f(x_o - 2h)\\right) - \\frac{17}{12}f^{(4)}(\\xi)h^2\n",
        "$$\n",
        "\n",
        "De esto mismo podemos notar que tiene un error igual a $ \\frac{17}{12}f^{(4)}(\\xi)h^2$"
      ],
      "metadata": {
        "id": "E869XUZWw0PK"
      }
    }
  ]
}