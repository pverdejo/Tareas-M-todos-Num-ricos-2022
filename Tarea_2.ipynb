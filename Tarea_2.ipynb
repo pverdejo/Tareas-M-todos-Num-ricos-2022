{
 "cells": [
  {
   "cell_type": "code",
   "execution_count": 1,
   "metadata": {
    "colab": {
     "base_uri": "https://localhost:8080/"
    },
    "id": "TdANsuoKpvug",
    "outputId": "0c39ad13-21c5-435e-eedd-9247989fef8f"
   },
   "outputs": [
    {
     "name": "stdout",
     "output_type": "stream",
     "text": [
      "Nuestro arreglo inicial es:\n",
      "[  1   2   3   4   5   6   7   8   9  10  11  12  13  14  15  16  17  18\n",
      "  19  20  21  22  23  24  25  26  27  28  29  30  31  32  33  34  35  36\n",
      "  37  38  39  40  41  42  43  44  45  46  47  48  49  50  51  52  53  54\n",
      "  55  56  57  58  59  60  61  62  63  64  65  66  67  68  69  70  71  72\n",
      "  73  74  75  76  77  78  79  80  81  82  83  84  85  86  87  88  89  90\n",
      "  91  92  93  94  95  96  97  98  99 100]\n",
      "El resultado de elevar nuestro arreglo inicial al cuadrado es:\n",
      "[    1     4     9    16    25    36    49    64    81   100   121   144\n",
      "   169   196   225   256   289   324   361   400   441   484   529   576\n",
      "   625   676   729   784   841   900   961  1024  1089  1156  1225  1296\n",
      "  1369  1444  1521  1600  1681  1764  1849  1936  2025  2116  2209  2304\n",
      "  2401  2500  2601  2704  2809  2916  3025  3136  3249  3364  3481  3600\n",
      "  3721  3844  3969  4096  4225  4356  4489  4624  4761  4900  5041  5184\n",
      "  5329  5476  5625  5776  5929  6084  6241  6400  6561  6724  6889  7056\n",
      "  7225  7396  7569  7744  7921  8100  8281  8464  8649  8836  9025  9216\n",
      "  9409  9604  9801 10000]\n"
     ]
    }
   ],
   "source": [
    "import numpy as np \n",
    "contenedor = np.linspace(1,100,100, dtype=int) #creamos un arreglo que nos almacene los datos para operar con ellos\n",
    "print(\"Nuestro arreglo inicial es:\")\n",
    "print(contenedor)\n",
    "#printeamos nuestro contenedor para así comparar con el resultado\n",
    "resultado = contenedor**2 #definimos un nuevo arreglo talque sea igual al anterior al contenedor al cuadrado\n",
    "print(\"El resultado de elevar nuestro arreglo inicial al cuadrado es:\")\n",
    "print(resultado)"
   ]
  },
  {
   "cell_type": "markdown",
   "metadata": {
    "id": "Xh1C8d4gvCm6"
   },
   "source": [
    "# Calificacion: 7.0\n",
    "\n",
    "Para la proxima ponga el numero de la tarea porfa uwu"
   ]
  }
 ],
 "metadata": {
  "colab": {
   "collapsed_sections": [],
   "name": "Tarea_2.ipynb",
   "provenance": [],
   "toc_visible": true
  },
  "kernelspec": {
   "display_name": "Python 3",
   "language": "python",
   "name": "python3"
  },
  "language_info": {
   "codemirror_mode": {
    "name": "ipython",
    "version": 3
   },
   "file_extension": ".py",
   "mimetype": "text/x-python",
   "name": "python",
   "nbconvert_exporter": "python",
   "pygments_lexer": "ipython3",
   "version": "3.8.3"
  },
  "toc": {
   "base_numbering": 1,
   "nav_menu": {},
   "number_sections": true,
   "sideBar": true,
   "skip_h1_title": false,
   "title_cell": "Table of Contents",
   "title_sidebar": "Contents",
   "toc_cell": false,
   "toc_position": {},
   "toc_section_display": true,
   "toc_window_display": false
  }
 },
 "nbformat": 4,
 "nbformat_minor": 1
}
