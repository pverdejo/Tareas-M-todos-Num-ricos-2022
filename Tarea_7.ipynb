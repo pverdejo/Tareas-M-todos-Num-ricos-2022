{
 "cells": [
  {
   "cell_type": "markdown",
   "id": "272b97d9-115c-48df-992a-efe800608465",
   "metadata": {},
   "source": [
    "## Tarea 7.2"
   ]
  },
  {
   "cell_type": "markdown",
   "id": "3e68dfd4-c0a3-4259-a506-a4c603a74c39",
   "metadata": {},
   "source": [
    "Queremos encontrar los ceros de la función $f(x) = \\sinh(x) - \\cos(x)$. Para lograrlo, primero use algunas iteraciones del método de bisección y así obtener un punto inicial para el método de Newton. "
   ]
  },
  {
   "cell_type": "code",
   "execution_count": 59,
   "id": "5e515941-e9b8-41d2-b76f-c1c51b4befc9",
   "metadata": {},
   "outputs": [],
   "source": [
    "# importamos librerias necesarias para tener las funciones y poder graficarlas \n",
    "\n",
    "import numpy as np \n",
    "import matplotlib.pyplot as plt \n",
    "\n",
    "# definimos la función pedida \n",
    "\n",
    "def f(x):\n",
    "    return np.sinh(x) - np.cos(x) \n",
    "\n",
    "# tambien definimos la derivada de esta funcion\n",
    "def dev_f(x):\n",
    "    return np.cosh(x) + np.sin(x)"
   ]
  },
  {
   "cell_type": "code",
   "execution_count": 60,
   "id": "f905dfd7-3ff6-436e-8362-20d60c71b7b5",
   "metadata": {},
   "outputs": [],
   "source": [
    "class MaxIterations(Exception):\n",
    "    pass"
   ]
  },
  {
   "cell_type": "code",
   "execution_count": 74,
   "id": "d158825d-f4e4-48e1-b026-c51ad8f03721",
   "metadata": {},
   "outputs": [],
   "source": [
    "# como recomienda el profesor vamos a definir las funciones que aplican el metodo de bisseción \n",
    "\n",
    "def Met_Bisec(funcion, a, b, epsilon, iteraciones = 1000000):\n",
    "    \n",
    "    '''\n",
    "    Algoritmo que permite encontrar el cero de una función a traves del metodo de bisección en el que consiste partir un intervalo en 2y determinar en cual de \n",
    "    los subintervalos se encuentra el cero que buscamos.\n",
    "    \n",
    "    -----------------------------------------------------------------------------------------------------------------------------------------------------------\n",
    "    \n",
    "    * funcion: funcion de entrada (type:function)\n",
    "    * [a, b]: los intervalos [a,b] donde se busca el 0 de la función de entrada (type:float)\n",
    "    * epsilon: valor de error deseado (type:float)\n",
    "    * iteraciones: numero de iteraciones maximos para hacer el metodo de bisseción (type:int)\n",
    "    \n",
    "    '''\n",
    "    \n",
    "    p0 = a\n",
    "    for i in range(iteraciones):\n",
    "        p1 = a + (b - a)/2\n",
    "        if abs(p1 - p0)/abs(p1) < epsilon:\n",
    "            return p0\n",
    "        elif funcion(p1)*funcion(a) > 0:\n",
    "            a = p1\n",
    "        else:\n",
    "            b = p1\n",
    "        p0= p1\n",
    "    raise MaxIterations(\"No se encontró el cero luego de\", iteraciones, \"iteraciones.\")\n",
    "    \n",
    "def Met_Newton(funcion, dev_funcion, p0, epsilon, iteraciones=1000000):\n",
    "    \n",
    "    '''\n",
    "    Algoritmo que permite encontrar el cero de una función dado un punto inicial y su derivada\n",
    "    \n",
    "    -----------------------------------------------------------------------------------------------------------------------------------------------------------\n",
    "    \n",
    "    * funcion: funcion de entrada (type:function)\n",
    "    * dev_funcion: derivada de la función de entrada (type:function)\n",
    "    * p0: valor inicial (type:float)\n",
    "    * epsilon: valor de error deseado (type:float)\n",
    "    * iteraciones: numero de iteraciones maximos para hacer el metodo de bisseción (type:int)\n",
    "    \n",
    "    '''\n",
    "    \n",
    "    for i in range(iteraciones):\n",
    "        p = p0 - funcion(p0)/dev_funcion(p0)\n",
    "        if abs(p - p0)/abs(p) < epsilon:\n",
    "            return p\n",
    "        p0 = p\n",
    "        raise MaxIterations(\"No se encontró el cero luego de\", iteraciones, \"iteraciones.\")"
   ]
  },
  {
   "cell_type": "code",
   "execution_count": 75,
   "id": "a39ad797-63e4-411f-a065-4a992c905770",
   "metadata": {},
   "outputs": [
    {
     "data": {
      "text/plain": [
       "<matplotlib.legend.Legend at 0x1c5590f22b0>"
      ]
     },
     "execution_count": 75,
     "metadata": {},
     "output_type": "execute_result"
    },
    {
     "data": {
      "image/png": "[encoded data removed]",
      "text/plain": [
       "<Figure size 640x480 with 1 Axes>"
      ]
     },
     "metadata": {},
     "output_type": "display_data"
    }
   ],
   "source": [
    "# Ya teniendo la funcion y los Metodos preparados, graficamos la funcion y su derivada para tener alguna idea del comportamiento \n",
    "x = np.linspace(-2*np.pi,2*np.pi,100)\n",
    "plt.plot(x,f(x),label=\"f(x)\",color = \"m\")\n",
    "plt.plot(x,dev_f(x),label=\"f'(x)\",color=\"g\")\n",
    "plt.legend()"
   ]
  },
  {
   "cell_type": "code",
   "execution_count": 76,
   "id": "4291a4bf-fff1-4b70-b0ed-27f00ac83bb5",
   "metadata": {},
   "outputs": [
    {
     "data": {
      "text/plain": [
       "0.7032906588643755"
      ]
     },
     "execution_count": 76,
     "metadata": {},
     "output_type": "execute_result"
    }
   ],
   "source": [
    "# Ya con este grafico podemos intuir los valores de a y b correspondiente al intervalo del algoritmo del Met_Bisec\n",
    "\"a = -4 y b = 4\"\n",
    "punto_inicial = Met_Bisec(f, -3, 4, 1e-12)\n",
    "punto_inicial"
   ]
  },
  {
   "cell_type": "code",
   "execution_count": 77,
   "id": "4690d2b9-100d-49bc-a188-ea5ad0688e1d",
   "metadata": {},
   "outputs": [
    {
     "data": {
      "text/plain": [
       "0.7032906588639654"
      ]
     },
     "execution_count": 77,
     "metadata": {},
     "output_type": "execute_result"
    }
   ],
   "source": [
    "Cero_de_la_funcion = Met_Newton(f, dev_f, punto_inicial, 1e-12)\n",
    "Cero_de_la_funcion"
   ]
  },
  {
   "cell_type": "code",
   "execution_count": 78,
   "id": "7e28f594-f6fb-4a7f-a470-3d3f1526edd6",
   "metadata": {},
   "outputs": [
    {
     "data": {
      "text/plain": [
       "-1.1102230246251565e-16"
      ]
     },
     "execution_count": 78,
     "metadata": {},
     "output_type": "execute_result"
    }
   ],
   "source": [
    "# Evaluamos si lo calculado coincide \n",
    "f(Cero_de_la_funcion)"
   ]
  },
  {
   "cell_type": "code",
   "execution_count": null,
   "id": "4e08d559-16e2-43b1-a8ab-6031747817dc",
   "metadata": {},
   "outputs": [],
   "source": [
    "# considerando que es un nunmero que es multiplicado por \"e-16\" seria extremadamente pequeño y cercano a cero asi que lo considero correcto"
   ]
  },
  {
   "cell_type": "markdown",
   "id": "b616f210",
   "metadata": {},
   "source": [
    "# Calificación: 7.0"
   ]
  },
  {
   "cell_type": "markdown",
   "id": "c4c36a2c",
   "metadata": {},
   "source": []
  }
 ],
 "metadata": {
  "kernelspec": {
   "display_name": "Python 3 (ipykernel)",
   "language": "python",
   "name": "python3"
  },
  "language_info": {
   "codemirror_mode": {
    "name": "ipython",
    "version": 3
   },
   "file_extension": ".py",
   "mimetype": "text/x-python",
   "name": "python",
   "nbconvert_exporter": "python",
   "pygments_lexer": "ipython3",
   "version": "3.9.13"
  }
 },
 "nbformat": 4,
 "nbformat_minor": 5
}
