{
 "cells": [
  {
   "cell_type": "markdown",
   "id": "600aacd2",
   "metadata": {},
   "source": [
    "# Tarea 9.10"
   ]
  },
  {
   "cell_type": "markdown",
   "id": "b2daa66a",
   "metadata": {},
   "source": [
    "Ejercicio 4.6.10 del libro de análisis numérico de Burden.\n",
    "\n",
    "El estudio de la difracción de la luz en una apertura rectangular involucra las integrales de Fresnel\n",
    "\n",
    "$$\n",
    "c(t) = \\int_0^t dw\\,\\cos\\frac{\\pi}{2}w^2\\,,\\quad s(t) = \\int_0^t dw\\,\\sin\\frac{\\pi}{2}w^2\\,.\n",
    "$$\n",
    "\n",
    "Construya una tabla de integrales de Fresnel con una precisión de $10^{-4}$ para los valores $t = 0.1, 0.2, ..., 0.9, 1.0$."
   ]
  },
  {
   "cell_type": "code",
   "execution_count": 28,
   "id": "0b8eabb5",
   "metadata": {},
   "outputs": [],
   "source": [
    "import numpy as np\n",
    "import matplotlib.pyplot as plt "
   ]
  },
  {
   "cell_type": "markdown",
   "id": "8b7936e9",
   "metadata": {},
   "source": [
    "Definimos las funciones que están dentro de las ecuaciones de fresnel, las cuales serían  $C(w)$   y   $S(w)$"
   ]
  },
  {
   "cell_type": "code",
   "execution_count": 29,
   "id": "aa33fd41",
   "metadata": {},
   "outputs": [],
   "source": [
    "def C(w):\n",
    "    return np.cos((np.pi/2)*w**2)\n",
    "def S(w):\n",
    "    return np.sin((np.pi/2)*w**2)"
   ]
  },
  {
   "cell_type": "markdown",
   "id": "a5c250b5",
   "metadata": {},
   "source": [
    "Ocupamos una función definida en las clases del profesor."
   ]
  },
  {
   "cell_type": "code",
   "execution_count": 30,
   "id": "5ef21162",
   "metadata": {},
   "outputs": [],
   "source": [
    "class MaxIterations(Exception):\n",
    "    pass\n",
    "\n",
    "def integral_adaptive(f, a, b, tol, N=100000):\n",
    "    \n",
    "    '''\n",
    "    f: la función a integrar   (type:function)\n",
    "    [a,b]: los limites de integracion   (type:float)\n",
    "    tol: el valor de tolerancia    (type:float)\n",
    "    N: cantidad maxima de iteraciones   (type:int) \n",
    "    '''\n",
    "    \n",
    "    #Variables iniciales\n",
    "    approx = 0\n",
    "    i = 0\n",
    "    toli = [10*tol]\n",
    "    ai = [a]\n",
    "    hi = [(b - a)/2]\n",
    "    fai = [f(a)]\n",
    "    fbi = [f(b)]\n",
    "    fci = [f(a + hi[i])]\n",
    "    S0i = [hi[i]*(fai[i] + 4*fci[i] + fbi[i])/3]\n",
    "    Li = [1]\n",
    "    \n",
    "    while i >= 0:\n",
    "        \n",
    "        fd = f(ai[i] + hi[i]/2)\n",
    "        fe = f(ai[i] + 3*hi[i]/2)\n",
    "        S1 = hi[i]*(fai[i] + 4*fd + fci[i])/6\n",
    "        S2 = hi[i]*(fci[i] + 4*fe + fbi[i])/6\n",
    "        ai_prec = ai[i]\n",
    "        hi_prec = hi[i]\n",
    "        fai_prec = fai[i]\n",
    "        fbi_prec = fbi[i]\n",
    "        fci_prec = fci[i]\n",
    "        toli_prec = toli[i]\n",
    "        S0i_prec = S0i[i]\n",
    "        Li_prec = Li[i]\n",
    "        \n",
    "        i -= 1\n",
    "        if abs(S1 + S2 - S0i_prec) < toli_prec:\n",
    "            approx += S1 + S2\n",
    "        else:\n",
    "            if Li_prec >= N:\n",
    "                raise MaxIterations(\"Alcanzado máximo número de iteraciones.\")\n",
    "            \n",
    "            # Intervalo derecho\n",
    "            i += 1\n",
    "            if i >= len(ai): # A veces hay que ampliar la lista\n",
    "                ai.append(ai_prec + hi_prec)\n",
    "                fai.append(fci_prec)\n",
    "                fci.append(fe)\n",
    "                fbi.append(fbi_prec)\n",
    "                hi.append(hi_prec/2)\n",
    "                toli.append(toli_prec/2)\n",
    "                S0i.append(S2)\n",
    "                Li.append(Li_prec + 1)\n",
    "            else:\n",
    "                ai[i] = ai_prec + hi_prec\n",
    "                fai[i] = fci_prec\n",
    "                fci[i] = fe\n",
    "                fbi[i] = fbi_prec\n",
    "                hi[i] = hi_prec/2\n",
    "                toli[i] = toli_prec/2\n",
    "                S0i[i] = S2\n",
    "                Li[i] = Li_prec + 1\n",
    "                \n",
    "            # Intervalo izquierdo\n",
    "            i += 1\n",
    "            if i >= len(ai):\n",
    "                ai.append(ai_prec)\n",
    "                fai.append(fai_prec)\n",
    "                fci.append(fd)\n",
    "                fbi.append(fci_prec)\n",
    "                hi.append(hi[i-1])\n",
    "                toli.append(toli[i-1])\n",
    "                S0i.append(S1)\n",
    "                Li.append(Li[i-1])\n",
    "            else:\n",
    "                ai[i] = ai_prec\n",
    "                fai[i] = fai_prec\n",
    "                fci[i] = fd\n",
    "                fbi[i] = fci_prec\n",
    "                hi[i] = hi[i-1]\n",
    "                toli[i] = toli[i-1]\n",
    "                S0i[i] = S1\n",
    "                Li[i] = Li[i-1]\n",
    "                \n",
    "    return approx"
   ]
  },
  {
   "cell_type": "markdown",
   "id": "7249330e",
   "metadata": {},
   "source": [
    "Ya con la función definida que nos ejecuta la integración con el metodo adaptativo, tenemos que crear un np.array vacio para guardar los datos para los valores pedidos en la pregunta "
   ]
  },
  {
   "cell_type": "code",
   "execution_count": 31,
   "id": "c0dbeef2",
   "metadata": {},
   "outputs": [
    {
     "data": {
      "text/plain": [
       "array([], shape=(0, 2), dtype=float64)"
      ]
     },
     "execution_count": 31,
     "metadata": {},
     "output_type": "execute_result"
    }
   ],
   "source": [
    "tabla_para_graficar = np.empty([0,2])\n",
    "tabla_para_graficar"
   ]
  },
  {
   "cell_type": "markdown",
   "id": "83ab860b",
   "metadata": {},
   "source": [
    "Definimos un loop que nos permite evaluar para cada $t$ para las dos funciones estudiadas $C$ y $S$"
   ]
  },
  {
   "cell_type": "code",
   "execution_count": 32,
   "id": "7f0d8b3d",
   "metadata": {},
   "outputs": [],
   "source": [
    "for i in np.arange (0,1.1,0.1):\n",
    "    C_integrado=integral_adaptive(C,0,i,0.0001)\n",
    "    S_integrado=integral_adaptive(S,0,i,0.0001)\n",
    "    resultado_obtenidos= np.array([C_integrado,S_integrado])\n",
    "    tabla_para_graficar=np.vstack([tabla_para_graficar,resultado_obtenidos])"
   ]
  },
  {
   "cell_type": "code",
   "execution_count": 33,
   "id": "1822ed26",
   "metadata": {},
   "outputs": [
    {
     "data": {
      "text/plain": [
       "array([[0.00000000e+00, 0.00000000e+00],\n",
       "       [9.99975262e-02, 5.23589387e-04],\n",
       "       [1.99920853e-01, 4.18758861e-03],\n",
       "       [2.99399446e-01, 1.41166481e-02],\n",
       "       [3.97474593e-01, 3.33568374e-02],\n",
       "       [4.92327199e-01, 6.47203162e-02],\n",
       "       [5.81060999e-01, 1.10498453e-01],\n",
       "       [6.59649786e-01, 1.72129265e-01],\n",
       "       [7.22844230e-01, 2.49325381e-01],\n",
       "       [7.64971727e-01, 3.39746957e-01],\n",
       "       [7.79880037e-01, 4.38245260e-01]])"
      ]
     },
     "execution_count": 33,
     "metadata": {},
     "output_type": "execute_result"
    }
   ],
   "source": [
    "tabla_para_graficar"
   ]
  }
 ],
 "metadata": {
  "kernelspec": {
   "display_name": "Python 3 (ipykernel)",
   "language": "python",
   "name": "python3"
  },
  "language_info": {
   "codemirror_mode": {
    "name": "ipython",
    "version": 3
   },
   "file_extension": ".py",
   "mimetype": "text/x-python",
   "name": "python",
   "nbconvert_exporter": "python",
   "pygments_lexer": "ipython3",
   "version": "3.9.13"
  }
 },
 "nbformat": 4,
 "nbformat_minor": 5
}
