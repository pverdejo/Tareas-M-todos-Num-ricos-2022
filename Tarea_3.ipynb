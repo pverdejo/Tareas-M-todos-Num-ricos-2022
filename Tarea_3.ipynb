{
  "nbformat": 4,
  "nbformat_minor": 0,
  "metadata": {
    "colab": {
      "provenance": []
    },
    "kernelspec": {
      "name": "python3",
      "display_name": "Python 3"
    },
    "language_info": {
      "name": "python"
    }
  },
  "cells": [
    {
      "cell_type": "markdown",
      "source": [
        "# Tarea 3\n",
        "A partir de los siguientes códigos, explique si el número de pasos es $\\mathcal{O}(n^c)$  (y cuánto vale $c$), $\\mathcal{O}(\\log_2 n)$ o $\\mathcal{O}(2^n)$ y por qué. Pista: Para el último código aumente n y vea cómo cambia el número de pasos s. Grafique n contra s e intente deducir a qué corresponde."
      ],
      "metadata": {
        "id": "84gERxwEIxKk"
      }
    },
    {
      "cell_type": "code",
      "source": [
        "#Codigo 1\n",
        "n = 1000\n",
        "s = 0 \n",
        "for i in range(n):          # acá aparece un n\n",
        "    for j in range(n):      # aca aparece un segundo n\n",
        "        if i < j:\n",
        "            s = s + i + j"
      ],
      "metadata": {
        "colab": {
          "base_uri": "https://localhost:8080/"
        },
        "id": "PRIEh_5uIs9_",
        "outputId": "66585204-09dd-465a-fd9b-c98dbb458568"
      },
      "execution_count": null,
      "outputs": [
        {
          "output_type": "stream",
          "name": "stdout",
          "text": [
            "499000500\n"
          ]
        }
      ]
    },
    {
      "cell_type": "markdown",
      "source": [
        "Se puede ver que en el codigo hay una ciclo \"for in range(n)\" y que dentro de este hay uno más por lo que su eficiencia es de orden $\\mathcal{O}(n^c)$  y el valor de  $c=2$"
      ],
      "metadata": {
        "id": "hyfECLKEJecl"
      }
    },
    {
      "cell_type": "code",
      "source": [
        "#Codigo 2\n",
        "n = 1000\n",
        "s = 0\n",
        "for i in range(n):                #primer n\n",
        "    s = s + i + sum(range(n))     #segunda n "
      ],
      "metadata": {
        "id": "EfsX63JoLDIH"
      },
      "execution_count": null,
      "outputs": []
    },
    {
      "cell_type": "markdown",
      "source": [
        "Se puede ver que en el codigo hay una ciclo \"for in range(n)\"\n",
        "\n",
        "y que dentro de este hay uno más por lo que su eficiencia es de orden $\\mathcal{O}(n^c)$  y el valor de  $c=2$"
      ],
      "metadata": {
        "id": "iyjM1v0FMVhm"
      }
    },
    {
      "cell_type": "code",
      "source": [
        "#agregamos librerias para graficar y tener una idea visual de los pasos\n",
        "\n",
        "import matplotlib.pyplot as plt\n",
        "import numpy as np\n",
        "\n",
        "#-----------------------------------------------------------------------\n",
        "#Codigo 3\n",
        "\n",
        "#utilizaremos distintas variables para preparar los datos\n",
        "#ajustamos el \"n\" para tener una mayor cantidad de datos\n",
        "\n",
        "eje_x = list(range(1000,10000000000,100000))\n",
        "\n",
        "#creamos desde una variable el eje x de nuestra gráfica como una gran cantidad \n",
        "#de numeros en el que poder ver su eficiencia \n",
        "\n",
        "numero_de_pasos = [] #agregamos esta lista para que almacene los pasos\n",
        "\n",
        "for n in eje_x:\n",
        "  #n = 100000\n",
        "  small = 0\n",
        "  p = 146\n",
        "  attempt = n//2\n",
        "  not_found = True\n",
        "  s = 0\n",
        "  while not_found:\n",
        "      s = s + 1\n",
        "      \n",
        "      if attempt > p:\n",
        "          n = attempt\n",
        "      elif attempt < p:\n",
        "          small = attempt\n",
        "      else:\n",
        "          numero_de_pasos.append(s) #ingresamos los datos a la lista\n",
        "          #print('Encontré', attempt, 'luego de', s, 'pasos')\n",
        "          #Desahilitamos esta parte del codigo para que no nos llene la pantalla\n",
        "          break\n",
        "      attempt = (n + small)//2\n",
        "#-----------------------------------------------------------------------\n",
        "#graficamos ahora al tener los datos ya recopilados \n",
        "plt.plot(eje_x,numero_de_pasos)\n",
        "plt.xlabel(\"numeros\")\n",
        "plt.ylabel(\"numero de pasos por numero\")\n",
        "plt.title(\" numeros / pasos \")\n",
        "\n",
        "plt.legend()\n"
      ],
      "metadata": {
        "colab": {
          "base_uri": "https://localhost:8080/",
          "height": 330
        },
        "id": "bDUWosD4VKrF",
        "outputId": "1ae488fa-ab95-45f5-a5da-10b8cc1d5585"
      },
      "execution_count": 34,
      "outputs": [
        {
          "output_type": "stream",
          "name": "stderr",
          "text": [
            "WARNING:matplotlib.legend:No handles with labels found to put in legend.\n"
          ]
        },
        {
          "output_type": "execute_result",
          "data": {
            "text/plain": [
              "<matplotlib.legend.Legend at 0x7f69d4426b10>"
            ]
          },
          "metadata": {},
          "execution_count": 34
        },
        {
          "output_type": "display_data",
          "data": {
            "text/plain": [
              "<Figure size 432x288 with 1 Axes>"
            ],
            "image/png": "[encoded data removed]"
          },
          "metadata": {
            "needs_background": "light"
          }
        }
      ]
    },
    {
      "cell_type": "code",
      "source": [],
      "metadata": {
        "id": "Sst37uDXXNlK"
      },
      "execution_count": null,
      "outputs": []
    }
  ]
}