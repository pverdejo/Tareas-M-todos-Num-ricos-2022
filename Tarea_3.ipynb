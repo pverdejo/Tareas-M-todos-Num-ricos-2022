{
 "cells": [
  {
   "cell_type": "markdown",
   "metadata": {
    "id": "84gERxwEIxKk"
   },
   "source": [
    "# Tarea 3\n",
    "A partir de los siguientes códigos, explique si el número de pasos es $\\mathcal{O}(n^c)$  (y cuánto vale $c$), $\\mathcal{O}(\\log_2 n)$ o $\\mathcal{O}(2^n)$ y por qué. Pista: Para el último código aumente n y vea cómo cambia el número de pasos s. Grafique n contra s e intente deducir a qué corresponde."
   ]
  },
  {
   "cell_type": "code",
   "execution_count": null,
   "metadata": {
    "colab": {
     "base_uri": "https://localhost:8080/"
    },
    "id": "PRIEh_5uIs9_",
    "outputId": "66585204-09dd-465a-fd9b-c98dbb458568"
   },
   "outputs": [
    {
     "name": "stdout",
     "output_type": "stream",
     "text": [
      "499000500\n"
     ]
    }
   ],
   "source": [
    "#Codigo 1\n",
    "n = 1000\n",
    "s = 0 \n",
    "for i in range(n):          # acá aparece un n\n",
    "    for j in range(n):      # aca aparece un segundo n\n",
    "        if i < j:\n",
    "            s = s + i + j"
   ]
  },
  {
   "cell_type": "markdown",
   "metadata": {
    "id": "hyfECLKEJecl"
   },
   "source": [
    "Se puede ver que en el codigo hay una ciclo \"for in range(n)\" y que dentro de este hay uno más por lo que su eficiencia es de orden $\\mathcal{O}(n^c)$  y el valor de  $c=2$"
   ]
  },
  {
   "cell_type": "code",
   "execution_count": null,
   "metadata": {
    "id": "EfsX63JoLDIH"
   },
   "outputs": [],
   "source": [
    "#Codigo 2\n",
    "n = 1000\n",
    "s = 0\n",
    "for i in range(n):                #primer n\n",
    "    s = s + i + sum(range(n))     #segunda n "
   ]
  },
  {
   "cell_type": "markdown",
   "metadata": {
    "id": "iyjM1v0FMVhm"
   },
   "source": [
    "Se puede ver que en el codigo hay una ciclo \"for in range(n)\"\n",
    "\n",
    "y que dentro de este hay uno más por lo que su eficiencia es de orden $\\mathcal{O}(n^c)$  y el valor de  $c=2$"
   ]
  },
  {
   "cell_type": "code",
   "execution_count": 3,
   "metadata": {
    "colab": {
     "base_uri": "https://localhost:8080/",
     "height": 330
    },
    "id": "bDUWosD4VKrF",
    "outputId": "1ae488fa-ab95-45f5-a5da-10b8cc1d5585"
   },
   "outputs": [
    {
     "name": "stderr",
     "output_type": "stream",
     "text": [
      "No artists with labels found to put in legend.  Note that artists whose label start with an underscore are ignored when legend() is called with no argument.\n"
     ]
    },
    {
     "data": {
      "text/plain": [
       "<matplotlib.legend.Legend at 0x18f66412bb0>"
      ]
     },
     "execution_count": 3,
     "metadata": {},
     "output_type": "execute_result"
    },
    {
     "data": {
      "image/png": "[encoded data removed]",
      "text/plain": [
       "<Figure size 432x288 with 1 Axes>"
      ]
     },
     "metadata": {
      "needs_background": "light"
     },
     "output_type": "display_data"
    }
   ],
   "source": [
    "#agregamos librerias para graficar y tener una idea visual de los pasos\n",
    "\n",
    "import matplotlib.pyplot as plt\n",
    "import numpy as np\n",
    "\n",
    "#-----------------------------------------------------------------------\n",
    "#Codigo 3\n",
    "\n",
    "#utilizaremos distintas variables para preparar los datos\n",
    "#ajustamos el \"n\" para tener una mayor cantidad de datos\n",
    "\n",
    "eje_x = list(range(1000,10000000000,100000))\n",
    "\n",
    "#creamos desde una variable el eje x de nuestra gráfica como una gran cantidad \n",
    "#de numeros en el que poder ver su eficiencia \n",
    "\n",
    "numero_de_pasos = [] #agregamos esta lista para que almacene los pasos\n",
    "\n",
    "for n in eje_x:\n",
    "  #n = 100000\n",
    "  small = 0\n",
    "  p = 146\n",
    "  attempt = n//2\n",
    "  not_found = True\n",
    "  s = 0\n",
    "  while not_found:\n",
    "      s = s + 1\n",
    "      \n",
    "      if attempt > p:\n",
    "          n = attempt\n",
    "      elif attempt < p:\n",
    "          small = attempt\n",
    "      else:\n",
    "          numero_de_pasos.append(s) #ingresamos los datos a la lista\n",
    "          #print('Encontré', attempt, 'luego de', s, 'pasos')\n",
    "          #Desahilitamos esta parte del codigo para que no nos llene la pantalla\n",
    "          break\n",
    "      attempt = (n + small)//2\n",
    "#-----------------------------------------------------------------------\n",
    "#graficamos ahora al tener los datos ya recopilados \n",
    "plt.plot(eje_x,numero_de_pasos)\n",
    "plt.xlabel(\"numeros\")\n",
    "plt.ylabel(\"numero de pasos por numero\")\n",
    "plt.title(\" numeros / pasos \")\n",
    "\n",
    "plt.legend()\n"
   ]
  },
  {
   "cell_type": "markdown",
   "metadata": {
    "id": "Sst37uDXXNlK"
   },
   "source": [
    "# Calificacion: 6.5\n",
    "\n",
    "Falto especificar cual es la eficiencia tenia el ultimo algoritmo."
   ]
  }
 ],
 "metadata": {
  "colab": {
   "provenance": []
  },
  "kernelspec": {
   "display_name": "Python 3",
   "language": "python",
   "name": "python3"
  },
  "language_info": {
   "codemirror_mode": {
    "name": "ipython",
    "version": 3
   },
   "file_extension": ".py",
   "mimetype": "text/x-python",
   "name": "python",
   "nbconvert_exporter": "python",
   "pygments_lexer": "ipython3",
   "version": "3.8.3"
  },
  "toc": {
   "base_numbering": 1,
   "nav_menu": {},
   "number_sections": true,
   "sideBar": true,
   "skip_h1_title": false,
   "title_cell": "Table of Contents",
   "title_sidebar": "Contents",
   "toc_cell": false,
   "toc_position": {},
   "toc_section_display": true,
   "toc_window_display": false
  }
 },
 "nbformat": 4,
 "nbformat_minor": 1
}
