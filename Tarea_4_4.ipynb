{
  "nbformat": 4,
  "nbformat_minor": 0,
  "metadata": {
    "colab": {
      "provenance": [],
      "collapsed_sections": []
    },
    "kernelspec": {
      "name": "python3",
      "display_name": "Python 3"
    },
    "language_info": {
      "name": "python"
    }
  },
  "cells": [
    {
      "cell_type": "markdown",
      "source": [
        "# Tarea 4.4 \n",
        "Queremos calcular $x^3$. ¿Es más rápido calcular x\\*x\\*x o x\\*\\*3?\n",
        "\n",
        "El problema es que Python calcula ambas operaciones muy rápido y es imposible decidir cuál es mejor.\n",
        "\n",
        "Para hacerlo podemos realizar la operación muchas veces y ver cuánto tarda. \n",
        "\n",
        "Modifique la función medir_tiempo para que admita un argumento adicional que sea el número de veces que se evalúa la función. Úsela para medir cuál es más rápido entre x\\*x\\*x o x\\*\\*3."
      ],
      "metadata": {
        "id": "s2XNEKhzR9Zo"
      }
    },
    {
      "cell_type": "code",
      "execution_count": 139,
      "metadata": {
        "id": "Pu50rg39R7sf"
      },
      "outputs": [],
      "source": [
        "# necesitamos modificar una función que se trabajó en clases  \n",
        "# importamos modulos \n",
        "from time import time_ns\n",
        "\n",
        "def medir_tiempo(func,repetir,*args):\n",
        "    t1 = time_ns()\n",
        "    for i in range(repetir):\n",
        "      func(*args)\n",
        "      tf = time_ns() - t1\n",
        "      \n",
        "    return print(\"el tiempo que tarda es\", func,'es de', tf)\n",
        "\n",
        "# no se hicieron muchos ajustes a la función medir_tiempo mas que agregarle un\n",
        "# \"for in range\" para ver cuanto tiempo tarda realizar una acción individual \n",
        "# multiples veces\n",
        "\n",
        "\n",
        "#Definimos las funciones para diferenciar el como se opera la base y trabajar \n",
        "#comodamente en el medir_tiempo\n",
        "\n",
        "\n",
        "def elevado(base):\n",
        "    resultado = base**3\n",
        "    #return print(\"el resultado de ocupar funcion elevado es\", resultado)\n",
        "  #el return se desactivo ya que si se ocupa en el medir_tiempo se repite mucho\n",
        "    \n",
        "\n",
        "def multiplicacion(base):\n",
        "    resultado = base*base*base\n",
        "    #return print(\"el resultado de ocupar funcion multiplicación es\", resultado)\n",
        "  #el return se desactivo ya que si se ocupa en el medir_tiempo se repite mucho\n",
        "    "
      ]
    },
    {
      "cell_type": "code",
      "source": [
        "multiplicacion(5)\n",
        "elevado (5)\n",
        "\n",
        "\n"
      ],
      "metadata": {
        "id": "No_DWMvoT6EU"
      },
      "execution_count": 140,
      "outputs": []
    },
    {
      "cell_type": "code",
      "source": [
        "medir_tiempo(multiplicacion,10000,5)\n",
        "medir_tiempo(elevado,10000,5)"
      ],
      "metadata": {
        "colab": {
          "base_uri": "https://localhost:8080/"
        },
        "id": "Iog8f7IMtnWt",
        "outputId": "82cb4599-7be3-4e31-fc9e-25fa50cfdccd"
      },
      "execution_count": 142,
      "outputs": [
        {
          "output_type": "stream",
          "name": "stdout",
          "text": [
            "el tiempo que tarda es <function multiplicacion at 0x7fe365b8c7a0> es de 4366795\n",
            "el tiempo que tarda es <function elevado at 0x7fe365b8c830> es de 6039573\n"
          ]
        }
      ]
    },
    {
      "cell_type": "code",
      "source": [],
      "metadata": {
        "id": "dgnV-cW6WPNi"
      },
      "execution_count": null,
      "outputs": []
    }
  ]
}